{
 "cells": [
  {
   "cell_type": "code",
   "execution_count": 1,
   "metadata": {},
   "outputs": [
    {
     "name": "stdout",
     "output_type": "stream",
     "text": [
      "Generated: C:\\Users\\Laura\\Desktop\\prueba_2\\frases_combinadas.mp3\n"
     ]
    }
   ],
   "source": [
    "import os\n",
    "from gtts import gTTS\n",
    "import re\n",
    "\n",
    "# Define la ruta de la carpeta en el escritorio\n",
    "folder_path = r\"C:\\Users\\Laura\\Desktop\\prueba_2\"\n",
    "\n",
    "# Crea la carpeta si no existe\n",
    "os.makedirs(folder_path, exist_ok=True)\n",
    "\n",
    "# Frases en japonés\n",
    "phrases = {\n",
    "    \"Yamamoto san wa sensei desu ka\": \"山本さんは先生ですか。\",\n",
    "    \"Kore wa hon desu\": \"これは本です。\"\n",
    "}\n",
    "\n",
    "# Función para limpiar nombres de archivo inválidos\n",
    "def sanitize_filename(filename):\n",
    "    return re.sub(r'[^a-zA-Z0-9_\\-]', '_', filename)\n",
    "\n",
    "# Combinar todas las frases en un solo string\n",
    "combined_text = \" \".join(phrases.values())\n",
    "\n",
    "# Nombre del archivo combinado\n",
    "file_path = os.path.join(folder_path, \"frases_combinadas.mp3\")\n",
    "\n",
    "# Generar un único archivo MP3 con todas las frases\n",
    "tts = gTTS(combined_text, lang=\"ja\")\n",
    "tts.save(file_path)\n",
    "print(f\"Generated: {file_path}\")\n"
   ]
  }
 ],
 "metadata": {
  "kernelspec": {
   "display_name": "Python 3",
   "language": "python",
   "name": "python3"
  },
  "language_info": {
   "codemirror_mode": {
    "name": "ipython",
    "version": 3
   },
   "file_extension": ".py",
   "mimetype": "text/x-python",
   "name": "python",
   "nbconvert_exporter": "python",
   "pygments_lexer": "ipython3",
   "version": "3.11.9"
  }
 },
 "nbformat": 4,
 "nbformat_minor": 2
}
